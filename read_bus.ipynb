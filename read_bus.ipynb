{
  "nbformat": 4,
  "nbformat_minor": 0,
  "metadata": {
    "colab": {
      "provenance": [],
      "authorship_tag": "ABX9TyNjZPZcP1qdHMQO2tsnWcL1",
      "include_colab_link": true
    },
    "kernelspec": {
      "name": "python3",
      "display_name": "Python 3"
    },
    "language_info": {
      "name": "python"
    }
  },
  "cells": [
    {
      "cell_type": "markdown",
      "metadata": {
        "id": "view-in-github",
        "colab_type": "text"
      },
      "source": [
        "<a href=\"https://colab.research.google.com/github/MinkyungKim04/iot-class/blob/main/read_bus.ipynb\" target=\"_parent\"><img src=\"https://colab.research.google.com/assets/colab-badge.svg\" alt=\"Open In Colab\"/></a>"
      ]
    },
    {
      "cell_type": "code",
      "execution_count": 82,
      "metadata": {
        "colab": {
          "base_uri": "https://localhost:8080/"
        },
        "id": "3wkp1txLD0FM",
        "outputId": "c5e94fd9-9f7e-4382-8d73-a9abc0a81b01"
      },
      "outputs": [
        {
          "output_type": "stream",
          "name": "stdout",
          "text": [
            "<?xml version=\"1.0\" encoding=\"UTF-8\" standalone=\"yes\"?><response><comMsgHeader/><msgHeader><queryTime>2024-03-15 22:14:43.566</queryTime><resultCode>0</resultCode><resultMessage>정상적으로 처리되었습니다.</resultMessage></msgHeader><msgBody><busLocationList><endBus>0</endBus><lowPlate>0</lowPlate><plateNo>경기74사1032</plateNo><plateType>3</plateType><remainSeatCnt>45</remainSeatCnt><routeId>234000031</routeId><stationId>221000236</stationId><stationSeq>54</stationSeq></busLocationList><busLocationList><endBus>0</endBus><lowPlate>0</lowPlate><plateNo>경기74사1077</plateNo><plateType>3</plateType><remainSeatCnt>43</remainSeatCnt><routeId>234000031</routeId><stationId>221000024</stationId><stationSeq>48</stationSeq></busLocationList><busLocationList><endBus>0</endBus><lowPlate>0</lowPlate><plateNo>경기77바1209</plateNo><plateType>3</plateType><remainSeatCnt>44</remainSeatCnt><routeId>234000031</routeId><stationId>123000611</stationId><stationSeq>30</stationSeq></busLocationList><busLocationList><endBus>0</endBus><lowPlate>0</lowPlate><plateNo>경기77바1006</plateNo><plateType>3</plateType><remainSeatCnt>45</remainSeatCnt><routeId>234000031</routeId><stationId>221000033</stationId><stationSeq>3</stationSeq></busLocationList><busLocationList><endBus>0</endBus><lowPlate>0</lowPlate><plateNo>경기77바1098</plateNo><plateType>3</plateType><remainSeatCnt>19</remainSeatCnt><routeId>234000031</routeId><stationId>221000073</stationId><stationSeq>39</stationSeq></busLocationList><busLocationList><endBus>0</endBus><lowPlate>0</lowPlate><plateNo>경기74사1058</plateNo><plateType>3</plateType><remainSeatCnt>26</remainSeatCnt><routeId>234000031</routeId><stationId>277103307</stationId><stationSeq>34</stationSeq></busLocationList><busLocationList><endBus>0</endBus><lowPlate>0</lowPlate><plateNo>경기74사1088</plateNo><plateType>3</plateType><remainSeatCnt>39</remainSeatCnt><routeId>234000031</routeId><stationId>277103306</stationId><stationSeq>25</stationSeq></busLocationList><busLocationList><endBus>0</endBus><lowPlate>0</lowPlate><plateNo>경기74사1078</plateNo><plateType>3</plateType><remainSeatCnt>45</remainSeatCnt><routeId>234000031</routeId><stationId>221000384</stationId><stationSeq>15</stationSeq></busLocationList></msgBody></response>\n"
          ]
        }
      ],
      "source": [
        "import requests\n",
        "url='http://apis.data.go.kr/6410000/buslocationservice/getBusLocationList?serviceKey=lMe3IF1X0yJUqmXuHvYhDWHGJl%2Btw3XwA1zCFgyC9RdvqHEy%2FjdH%2Frm%2FjI%2FKTt2RMyJWqf8XS3bYuXJJdribig%3D%3D&routeId=234000031'\n",
        "#url='http://openapi.gbis.go.kr/ws/rest/buslocationservice?serviceKey=1234567890&routeId=234000031'\n",
        "r = requests.get(url)\n",
        "print(r.text)\n"
      ]
    },
    {
      "cell_type": "code",
      "source": [
        "from bs4 import BeautifulSoup\n",
        "\n",
        "soup = BeautifulSoup(r.text, features=\"xml\")"
      ],
      "metadata": {
        "id": "ViJS2pluQrLs"
      },
      "execution_count": null,
      "outputs": []
    },
    {
      "cell_type": "code",
      "source": [
        "soup.find_all('stationId')"
      ],
      "metadata": {
        "id": "XQU9lZ56EK2V",
        "colab": {
          "base_uri": "https://localhost:8080/"
        },
        "outputId": "9a602843-19e0-47b1-acb0-11a9410f50d1"
      },
      "execution_count": 84,
      "outputs": [
        {
          "output_type": "execute_result",
          "data": {
            "text/plain": [
              "[<stationId>221000236</stationId>,\n",
              " <stationId>221000024</stationId>,\n",
              " <stationId>123000611</stationId>,\n",
              " <stationId>221000033</stationId>,\n",
              " <stationId>221000073</stationId>,\n",
              " <stationId>277103307</stationId>,\n",
              " <stationId>277103306</stationId>,\n",
              " <stationId>221000384</stationId>]"
            ]
          },
          "metadata": {},
          "execution_count": 84
        }
      ]
    }
  ]
}