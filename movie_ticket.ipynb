{
  "nbformat": 4,
  "nbformat_minor": 0,
  "metadata": {
    "colab": {
      "provenance": [],
      "authorship_tag": "ABX9TyO927LIVLyd1NHVxRmjtbP4",
      "include_colab_link": true
    },
    "kernelspec": {
      "name": "python3",
      "display_name": "Python 3"
    },
    "language_info": {
      "name": "python"
    }
  },
  "cells": [
    {
      "cell_type": "markdown",
      "metadata": {
        "id": "view-in-github",
        "colab_type": "text"
      },
      "source": [
        "<a href=\"https://colab.research.google.com/github/MinkyungKim04/iot-class/blob/main/movie_ticket.ipynb\" target=\"_parent\"><img src=\"https://colab.research.google.com/assets/colab-badge.svg\" alt=\"Open In Colab\"/></a>"
      ]
    },
    {
      "cell_type": "code",
      "source": [
        "import requests\n",
        "from bs4 import BeautifulSoup\n",
        "\n",
        "r = requests.get('https://www.kobis.or.kr/kobisopenapi/webservice/rest/boxoffice/searchDailyBoxOfficeList.xml?key=7e3b576b441761d24ccb1f969ff60525&targetDt=20240314')\n",
        "print(r.text)"
      ],
      "metadata": {
        "id": "E0dN_oxumwaL"
      },
      "execution_count": null,
      "outputs": []
    },
    {
      "cell_type": "code",
      "source": [
        "soup = BeautifulSoup(r.text, features=\"xml\")"
      ],
      "metadata": {
        "id": "TapitlSLmfOR"
      },
      "execution_count": null,
      "outputs": []
    },
    {
      "cell_type": "code",
      "source": [
        "soup.find_all('movieNm')"
      ],
      "metadata": {
        "colab": {
          "base_uri": "https://localhost:8080/"
        },
        "id": "Ed_7EWCDmfVA",
        "outputId": "94ee0cb3-49f2-4485-dd74-d355324b976e"
      },
      "execution_count": 5,
      "outputs": [
        {
          "output_type": "execute_result",
          "data": {
            "text/plain": [
              "[<movieNm>파묘</movieNm>,\n",
              " <movieNm>듄: 파트2</movieNm>,\n",
              " <movieNm>밥 말리: 원 러브</movieNm>,\n",
              " <movieNm>랜드 오브 배드</movieNm>,\n",
              " <movieNm>가여운 것들</movieNm>,\n",
              " <movieNm>패스트 라이브즈</movieNm>,\n",
              " <movieNm>메이 디셈버</movieNm>,\n",
              " <movieNm>건국전쟁</movieNm>,\n",
              " <movieNm>웡카</movieNm>,\n",
              " <movieNm>화녀</movieNm>]"
            ]
          },
          "metadata": {},
          "execution_count": 5
        }
      ]
    },
    {
      "cell_type": "code",
      "source": [
        "soup.find_all('audiCnt')"
      ],
      "metadata": {
        "colab": {
          "base_uri": "https://localhost:8080/"
        },
        "id": "hsF-0p2TmlPK",
        "outputId": "b8982e61-f169-4742-b4f6-558f77e9255f"
      },
      "execution_count": 6,
      "outputs": [
        {
          "output_type": "execute_result",
          "data": {
            "text/plain": [
              "[<audiCnt>105066</audiCnt>,\n",
              " <audiCnt>24491</audiCnt>,\n",
              " <audiCnt>4553</audiCnt>,\n",
              " <audiCnt>3962</audiCnt>,\n",
              " <audiCnt>3931</audiCnt>,\n",
              " <audiCnt>3134</audiCnt>,\n",
              " <audiCnt>2912</audiCnt>,\n",
              " <audiCnt>2217</audiCnt>,\n",
              " <audiCnt>2112</audiCnt>,\n",
              " <audiCnt>1887</audiCnt>]"
            ]
          },
          "metadata": {},
          "execution_count": 6
        }
      ]
    }
  ]
}