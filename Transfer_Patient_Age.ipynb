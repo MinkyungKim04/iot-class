{
  "nbformat": 4,
  "nbformat_minor": 0,
  "metadata": {
    "colab": {
      "provenance": [],
      "authorship_tag": "ABX9TyPVkYhG+31bw++nTsL6epH+",
      "include_colab_link": true
    },
    "kernelspec": {
      "name": "python3",
      "display_name": "Python 3"
    },
    "language_info": {
      "name": "python"
    }
  },
  "cells": [
    {
      "cell_type": "markdown",
      "metadata": {
        "id": "view-in-github",
        "colab_type": "text"
      },
      "source": [
        "<a href=\"https://colab.research.google.com/github/MinkyungKim04/iot-class/blob/main/Transfer_Patient_Age.ipynb\" target=\"_parent\"><img src=\"https://colab.research.google.com/assets/colab-badge.svg\" alt=\"Open In Colab\"/></a>"
      ]
    },
    {
      "cell_type": "code",
      "execution_count": 35,
      "metadata": {
        "colab": {
          "base_uri": "https://localhost:8080/"
        },
        "id": "w3H6Q4iW1Kkj",
        "outputId": "38ea0c37-ea17-4a25-86c0-b431d5a169e7"
      },
      "outputs": [
        {
          "output_type": "stream",
          "name": "stdout",
          "text": [
            "b'<?xml version=\"1.0\" encoding=\"UTF-8\"?><response><header><resultMsg>NORMAL SERVICE</resultMsg><resultCode>00</resultCode></header><numOfRows>2</numOfRows><pageNo>1</pageNo><totalCount>601</totalCount><body><items><item><sidoHqOgidNm>\\xec\\xb6\\xa9\\xec\\xb2\\xad\\xeb\\x82\\xa8\\xeb\\x8f\\x84\\xec\\x86\\x8c\\xeb\\xb0\\xa9\\xeb\\xb3\\xb8\\xeb\\xb6\\x80</sidoHqOgidNm><frnrAt>N</frnrAt><ptntSdtSeCdNm>\\xeb\\x82\\xa8</ptntSdtSeCdNm><anmlInctCdNm/><stmtYm>202101</stmtYm><ruptOccrPlcCdNm>\\xec\\xa7\\x91</ruptOccrPlcCdNm><rsacGutFsttOgidNm>\\xea\\xb3\\xb5\\xec\\xa3\\xbc\\xec\\x86\\x8c\\xeb\\xb0\\xa9\\xec\\x84\\x9c</rsacGutFsttOgidNm><ptntTyCdNm>\\xeb\\xac\\xb4\\xec\\xa7\\x81</ptntTyCdNm><ptntAge>79</ptntAge><rlifAcdAsmCdNm/><stmtHh>20</stmtHh><rlifOccrTyCdNm>\\xec\\xa7\\x88\\xeb\\xb3\\x91</rlifOccrTyCdNm><wmhtDamgCdNm/></item><item><sidoHqOgidNm>\\xec\\xb6\\xa9\\xec\\xb2\\xad\\xeb\\x82\\xa8\\xeb\\x8f\\x84\\xec\\x86\\x8c\\xeb\\xb0\\xa9\\xeb\\xb3\\xb8\\xeb\\xb6\\x80</sidoHqOgidNm><frnrAt>N</frnrAt><ptntSdtSeCdNm>\\xec\\x97\\xac</ptntSdtSeCdNm><anmlInctCdNm/><stmtYm>202101</stmtYm><ruptOccrPlcCdNm>\\xec\\xa7\\x91</ruptOccrPlcCdNm><rsacGutFsttOgidNm>\\xea\\xb3\\xb5\\xec\\xa3\\xbc\\xec\\x86\\x8c\\xeb\\xb0\\xa9\\xec\\x84\\x9c</rsacGutFsttOgidNm><ptntTyCdNm>\\xec\\xa3\\xbc\\xeb\\xb6\\x80</ptntTyCdNm><ptntAge>39</ptntAge><rlifAcdAsmCdNm/><stmtHh>19</stmtHh><rlifOccrTyCdNm>\\xec\\xa7\\x88\\xeb\\xb3\\x91</rlifOccrTyCdNm><wmhtDamgCdNm/></item></items></body></response>'\n"
          ]
        }
      ],
      "source": [
        "import requests\n",
        "from bs4 import BeautifulSoup\n",
        "\n",
        "url = 'http://apis.data.go.kr/1661000/EmergencyInformationService/getEmgPatientTransferInfo'\n",
        "params ={'serviceKey' : 'lMe3IF1X0yJUqmXuHvYhDWHGJl+tw3XwA1zCFgyC9RdvqHEy/jdH/rm/jI/KTt2RMyJWqf8XS3bYuXJJdribig==', 'pageNo' : '1', 'numOfRows' : '2', 'resultType' : 'xml', 'sidoHqOgidNm' : '충청남도소방본부', 'rsacGutFsttOgidNm' : '공주소방서', 'stmtYm' : '202101' }\n",
        "\n",
        "response = requests.get(url, params=params)\n",
        "print(response.content)"
      ]
    },
    {
      "cell_type": "code",
      "source": [
        "soup = BeautifulSoup(response.content,features=\"xml\")"
      ],
      "metadata": {
        "id": "jEkUeneB1gcV"
      },
      "execution_count": 9,
      "outputs": []
    },
    {
      "cell_type": "code",
      "source": [
        "soup.find_all('ptntAge')"
      ],
      "metadata": {
        "colab": {
          "base_uri": "https://localhost:8080/"
        },
        "id": "BgYtqcbW1M0-",
        "outputId": "80bfc49c-4957-46a2-c7ed-8769beb9292c"
      },
      "execution_count": 36,
      "outputs": [
        {
          "output_type": "execute_result",
          "data": {
            "text/plain": [
              "[<ptntAge>79</ptntAge>, <ptntAge>39</ptntAge>]"
            ]
          },
          "metadata": {},
          "execution_count": 36
        }
      ]
    }
  ]
}